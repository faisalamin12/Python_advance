{
  "nbformat": 4,
  "nbformat_minor": 0,
  "metadata": {
    "colab": {
      "provenance": [],
      "authorship_tag": "ABX9TyMwUN+sQJi2ykrCDtITb70U",
      "include_colab_link": true
    },
    "kernelspec": {
      "name": "python3",
      "display_name": "Python 3"
    },
    "language_info": {
      "name": "python"
    }
  },
  "cells": [
    {
      "cell_type": "markdown",
      "metadata": {
        "id": "view-in-github",
        "colab_type": "text"
      },
      "source": [
        "<a href=\"https://colab.research.google.com/github/faisalamin12/Python_advance/blob/main/filter()_func_in_Python.ipynb\" target=\"_parent\"><img src=\"https://colab.research.google.com/assets/colab-badge.svg\" alt=\"Open In Colab\"/></a>"
      ]
    },
    {
      "cell_type": "markdown",
      "source": [
        "**filter() in python**\n",
        "\n",
        "The filter() method filters the given sequence with the help of a function that tests each element in the sequence to be true or not.\n",
        "\n",
        "\n",
        "**Syntax:**\n",
        "\n",
        "\n",
        "    \n",
        "    filter(function, sequence)\n",
        "\n",
        "\n",
        "**Parameters:**\n",
        "\n",
        "    function: function that tests if each element of a \n",
        "    sequence true or not.\n",
        "    Sequence: sequence which needs to be filtered, it can \n",
        "    be sets, lists, tuples, or containers of any iterators.\n",
        "\n",
        "Returns:returns an iterator that is already filtered.\n",
        "\n"
      ],
      "metadata": {
        "id": "ryUj7fNZWFhH"
      }
    },
    {
      "cell_type": "code",
      "source": [
        "##   searching of letter without filter\n",
        "\n",
        "\n",
        "def searh_letters(letter):\n",
        "  vov = [\"a\" , \"e\" , \"i\" , \"o\" \"u\"]\n",
        "  \n",
        "  if letter in vov:\n",
        "    return True\n",
        "  else:\n",
        "    return False\n",
        "\n",
        "\n",
        "searh_letters(\"i\")    \n"
      ],
      "metadata": {
        "colab": {
          "base_uri": "https://localhost:8080/"
        },
        "id": "IwR3gMKkWX3R",
        "outputId": "0b7f9f59-cf62-4b24-ce09-d55216747890"
      },
      "execution_count": 1,
      "outputs": [
        {
          "output_type": "execute_result",
          "data": {
            "text/plain": [
              "True"
            ]
          },
          "metadata": {},
          "execution_count": 1
        }
      ]
    },
    {
      "cell_type": "code",
      "source": [
        "##     What if we want to check sequence of lettes\n",
        "\n",
        "sequence = ['g', 'e', 'e', 'j', 'k', 's', 'p', 'r']\n",
        "\n",
        "res = filter(searh_letters , sequence)"
      ],
      "metadata": {
        "id": "VejtNy4QYC4z"
      },
      "execution_count": 7,
      "outputs": []
    },
    {
      "cell_type": "code",
      "source": [
        "for s in res:\n",
        "  print(s)"
      ],
      "metadata": {
        "colab": {
          "base_uri": "https://localhost:8080/"
        },
        "id": "kE89er5NYsqQ",
        "outputId": "3a1ec0a2-d256-4393-e58c-e87078fdd263"
      },
      "execution_count": 8,
      "outputs": [
        {
          "output_type": "stream",
          "name": "stdout",
          "text": [
            "e\n",
            "e\n"
          ]
        }
      ]
    },
    {
      "cell_type": "code",
      "source": [
        "## Seperate even and odd through filter\n",
        "numbers = [1,2,3,4,5,6,7,8,9,0,10]\n",
        "\n",
        "\n",
        "even = filter(lambda x: x%2==0, numbers)\n",
        "print(list(even))\n",
        "\n",
        "odd = filter(lambda y: y%2 !=0, numbers)\n",
        "\n",
        "print(list(odd))"
      ],
      "metadata": {
        "colab": {
          "base_uri": "https://localhost:8080/"
        },
        "id": "sVMGnZEiYzyR",
        "outputId": "7e1309cf-0c34-4de1-c156-b610a8263e52"
      },
      "execution_count": 10,
      "outputs": [
        {
          "output_type": "stream",
          "name": "stdout",
          "text": [
            "[2, 4, 6, 8, 0, 10]\n",
            "[1, 3, 5, 7, 9]\n"
          ]
        }
      ]
    },
    {
      "cell_type": "markdown",
      "source": [
        "**Diffrence Between Map and Filter**"
      ],
      "metadata": {
        "id": "hzqm5e5bbjyt"
      }
    },
    {
      "cell_type": "code",
      "source": [
        "## same function with map\n",
        "\n",
        "result_1 = map(lambda x: x%2 == 0 , numbers)\n",
        "print(\"With Map: \")\n",
        "print(list(result_1))\n",
        "result_2 = filter(lambda x: x%2 == 0, numbers)\n",
        "print(\"with map: \")\n",
        "print(list(result_2))\n"
      ],
      "metadata": {
        "colab": {
          "base_uri": "https://localhost:8080/"
        },
        "id": "pyCxNxPkbW8I",
        "outputId": "5c224002-42c4-40e7-ad8e-10ba76f9c4be"
      },
      "execution_count": 11,
      "outputs": [
        {
          "output_type": "stream",
          "name": "stdout",
          "text": [
            "With Map: \n",
            "[False, True, False, True, False, True, False, True, False, True, True]\n",
            "with map: \n",
            "[2, 4, 6, 8, 0, 10]\n"
          ]
        }
      ]
    },
    {
      "cell_type": "code",
      "source": [],
      "metadata": {
        "id": "zOBTiFnaclHP"
      },
      "execution_count": null,
      "outputs": []
    }
  ]
}
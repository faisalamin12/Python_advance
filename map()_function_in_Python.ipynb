{
  "nbformat": 4,
  "nbformat_minor": 0,
  "metadata": {
    "colab": {
      "provenance": [],
      "authorship_tag": "ABX9TyNXL7zqJT6yNs4xxP4Jzcaf",
      "include_colab_link": true
    },
    "kernelspec": {
      "name": "python3",
      "display_name": "Python 3"
    },
    "language_info": {
      "name": "python"
    }
  },
  "cells": [
    {
      "cell_type": "markdown",
      "metadata": {
        "id": "view-in-github",
        "colab_type": "text"
      },
      "source": [
        "<a href=\"https://colab.research.google.com/github/faisalamin12/Python_advance/blob/main/map()_function_in_Python.ipynb\" target=\"_parent\"><img src=\"https://colab.research.google.com/assets/colab-badge.svg\" alt=\"Open In Colab\"/></a>"
      ]
    },
    {
      "cell_type": "markdown",
      "source": [
        "map() function returns a map object(which is an iterator) of the results after applying the given function to each item of a given iterable (list, tuple etc.)"
      ],
      "metadata": {
        "id": "ojgrIohv6r4u"
      }
    },
    {
      "cell_type": "markdown",
      "source": [
        "**Syntax**  \n",
        "\n",
        "map(fun, iter)\n",
        "\n",
        "\n",
        "**Parameters :**\n",
        "\n",
        "    fun : It is a function to which map passes each element of given iterable.\n",
        "    iter : It is a iterable which is to be mapped."
      ],
      "metadata": {
        "id": "zLjEnqkD68wC"
      }
    },
    {
      "cell_type": "code",
      "source": [
        "## Addition of numbers\n",
        "\n",
        "def add(n):\n",
        "  return n+n\n",
        "\n",
        "add(2)\n",
        "\n",
        "\n"
      ],
      "metadata": {
        "colab": {
          "base_uri": "https://localhost:8080/"
        },
        "id": "JCQsGP5Y644N",
        "outputId": "72df82cf-263b-487f-b596-ed085c854c13"
      },
      "execution_count": 1,
      "outputs": [
        {
          "output_type": "execute_result",
          "data": {
            "text/plain": [
              "4"
            ]
          },
          "metadata": {},
          "execution_count": 1
        }
      ]
    },
    {
      "cell_type": "code",
      "source": [
        "##if we want to add list elements through same function\n",
        "\n",
        "list_1 = [1,2,3,4,5]\n",
        "\n",
        "a = map(add , list_1)"
      ],
      "metadata": {
        "id": "l6-Q01dV8MxM"
      },
      "execution_count": 3,
      "outputs": []
    },
    {
      "cell_type": "code",
      "source": [
        "list(a)"
      ],
      "metadata": {
        "colab": {
          "base_uri": "https://localhost:8080/"
        },
        "id": "vXIrgi7u8iQt",
        "outputId": "29458b95-595b-4394-d21c-5c64cebdc008"
      },
      "execution_count": 4,
      "outputs": [
        {
          "output_type": "execute_result",
          "data": {
            "text/plain": [
              "[2, 4, 6, 8, 10]"
            ]
          },
          "metadata": {},
          "execution_count": 4
        }
      ]
    },
    {
      "cell_type": "code",
      "source": [
        "## We can use map function with Lambda function\n",
        "\n",
        "\n",
        "a = map(lambda  x: x + x ,  list_1 )"
      ],
      "metadata": {
        "id": "2dszCmS-8n-E"
      },
      "execution_count": 5,
      "outputs": []
    },
    {
      "cell_type": "code",
      "source": [
        "list(a)"
      ],
      "metadata": {
        "colab": {
          "base_uri": "https://localhost:8080/"
        },
        "id": "bQtZUnLL9SIg",
        "outputId": "05cab53d-1371-44d7-96c4-f944ec772079"
      },
      "execution_count": 6,
      "outputs": [
        {
          "output_type": "execute_result",
          "data": {
            "text/plain": [
              "[2, 4, 6, 8, 10]"
            ]
          },
          "metadata": {},
          "execution_count": 6
        }
      ]
    },
    {
      "cell_type": "code",
      "source": [
        "## Addition of two list \n",
        "\n",
        "eng_marks = [75,68, 98, 54 , 77]\n",
        "phy_marks = [77,86,65,52,71]\n",
        "\n",
        "total = map(lambda x,y : x + y , eng_marks , phy_marks)\n"
      ],
      "metadata": {
        "id": "C7fvk3d29Tz0"
      },
      "execution_count": 8,
      "outputs": []
    },
    {
      "cell_type": "code",
      "source": [
        "total"
      ],
      "metadata": {
        "colab": {
          "base_uri": "https://localhost:8080/"
        },
        "id": "zmwP8clK-WYA",
        "outputId": "4ef36832-e135-4c10-847a-f214ce52225c"
      },
      "execution_count": 9,
      "outputs": [
        {
          "output_type": "execute_result",
          "data": {
            "text/plain": [
              "<map at 0x7f5774bdf390>"
            ]
          },
          "metadata": {},
          "execution_count": 9
        }
      ]
    },
    {
      "cell_type": "code",
      "source": [
        "list(total)"
      ],
      "metadata": {
        "colab": {
          "base_uri": "https://localhost:8080/"
        },
        "id": "5wuS8wH6-bcN",
        "outputId": "87164e3c-6602-44eb-b556-6b5933e26d6b"
      },
      "execution_count": 10,
      "outputs": [
        {
          "output_type": "execute_result",
          "data": {
            "text/plain": [
              "[152, 154, 163, 106, 148]"
            ]
          },
          "metadata": {},
          "execution_count": 10
        }
      ]
    },
    {
      "cell_type": "code",
      "source": [
        "# Conversion of list from string through map \n",
        "\n",
        "days = [\"sat\" , \"sun\" , \"mon\" , \"Tues\" , \"wed\"]\n",
        "\n",
        "con_list = map(list , days)\n"
      ],
      "metadata": {
        "id": "2OwhrI2v-e-G"
      },
      "execution_count": 11,
      "outputs": []
    },
    {
      "cell_type": "code",
      "source": [
        "print(con_list)"
      ],
      "metadata": {
        "colab": {
          "base_uri": "https://localhost:8080/"
        },
        "id": "-I5kryJ5_Mrm",
        "outputId": "87f9bc39-4fdb-4fb5-beae-a0c85a29a5a6"
      },
      "execution_count": 12,
      "outputs": [
        {
          "output_type": "stream",
          "name": "stdout",
          "text": [
            "<map object at 0x7f5774c2c910>\n"
          ]
        }
      ]
    },
    {
      "cell_type": "code",
      "source": [
        "list(con_list)"
      ],
      "metadata": {
        "colab": {
          "base_uri": "https://localhost:8080/"
        },
        "id": "u1Dqfy_g_TLX",
        "outputId": "b73edac4-990f-4c14-f63b-75807d379c11"
      },
      "execution_count": 13,
      "outputs": [
        {
          "output_type": "execute_result",
          "data": {
            "text/plain": [
              "[['s', 'a', 't'],\n",
              " ['s', 'u', 'n'],\n",
              " ['m', 'o', 'n'],\n",
              " ['T', 'u', 'e', 's'],\n",
              " ['w', 'e', 'd']]"
            ]
          },
          "metadata": {},
          "execution_count": 13
        }
      ]
    },
    {
      "cell_type": "code",
      "source": [],
      "metadata": {
        "id": "tqPGOuaq_WUW"
      },
      "execution_count": null,
      "outputs": []
    }
  ]
}